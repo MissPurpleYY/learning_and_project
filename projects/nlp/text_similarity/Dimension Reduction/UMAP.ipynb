{
 "cells": [
  {
   "cell_type": "code",
   "execution_count": 1,
   "id": "curious-christmas",
   "metadata": {},
   "outputs": [],
   "source": [
    "import pandas as pd\n",
    "import numpy as np\n",
    "import warnings\n",
    "warnings.filterwarnings(\"ignore\",category=DeprecationWarning)"
   ]
  },
  {
   "cell_type": "code",
   "execution_count": 2,
   "id": "prescription-mississippi",
   "metadata": {},
   "outputs": [
    {
     "data": {
      "text/html": [
       "<div>\n",
       "<style scoped>\n",
       "    .dataframe tbody tr th:only-of-type {\n",
       "        vertical-align: middle;\n",
       "    }\n",
       "\n",
       "    .dataframe tbody tr th {\n",
       "        vertical-align: top;\n",
       "    }\n",
       "\n",
       "    .dataframe thead th {\n",
       "        text-align: right;\n",
       "    }\n",
       "</style>\n",
       "<table border=\"1\" class=\"dataframe\">\n",
       "  <thead>\n",
       "    <tr style=\"text-align: right;\">\n",
       "      <th></th>\n",
       "      <th>review_id</th>\n",
       "      <th>sentiment</th>\n",
       "      <th>text</th>\n",
       "    </tr>\n",
       "  </thead>\n",
       "  <tbody>\n",
       "    <tr>\n",
       "      <th>0</th>\n",
       "      <td>3872002725</td>\n",
       "      <td>positive</td>\n",
       "      <td>Perfect plan B for our beach wedding that we c...</td>\n",
       "    </tr>\n",
       "    <tr>\n",
       "      <th>1</th>\n",
       "      <td>3872002725</td>\n",
       "      <td>positive</td>\n",
       "      <td>Staff were AMAZING - so friendly and accommoda...</td>\n",
       "    </tr>\n",
       "    <tr>\n",
       "      <th>2</th>\n",
       "      <td>3872006069</td>\n",
       "      <td>positive</td>\n",
       "      <td>All apartments with a pool view Ten minute wal...</td>\n",
       "    </tr>\n",
       "    <tr>\n",
       "      <th>3</th>\n",
       "      <td>3872009990</td>\n",
       "      <td>positive</td>\n",
       "      <td>We had a 2 bedroom suite with a hot tub.</td>\n",
       "    </tr>\n",
       "    <tr>\n",
       "      <th>4</th>\n",
       "      <td>3872009990</td>\n",
       "      <td>positive</td>\n",
       "      <td>Very private setting and great atmosphere.</td>\n",
       "    </tr>\n",
       "  </tbody>\n",
       "</table>\n",
       "</div>"
      ],
      "text/plain": [
       "    review_id sentiment                                               text\n",
       "0  3872002725  positive  Perfect plan B for our beach wedding that we c...\n",
       "1  3872002725  positive  Staff were AMAZING - so friendly and accommoda...\n",
       "2  3872006069  positive  All apartments with a pool view Ten minute wal...\n",
       "3  3872009990  positive           We had a 2 bedroom suite with a hot tub.\n",
       "4  3872009990  positive         Very private setting and great atmosphere."
      ]
     },
     "execution_count": 2,
     "metadata": {},
     "output_type": "execute_result"
    }
   ],
   "source": [
    "colnames = ['review_id','sentiment','text']\n",
    "#data = pd.read_csv('~/reviews.csv.gz', nrows=100, compression='gzip',names = colnames, header = None,\n",
    "#                   error_bad_lines=False)\n",
    "data = pd.read_csv('~/reviews_filtered.txt', sep=\"\\t\", nrows=10000, names = colnames)\n",
    "data.head()"
   ]
  },
  {
   "cell_type": "code",
   "execution_count": 3,
   "id": "generic-supplement",
   "metadata": {},
   "outputs": [
    {
     "name": "stdout",
     "output_type": "stream",
     "text": [
      "total number of reviews:  10000\n"
     ]
    }
   ],
   "source": [
    "corpus = data['text'].tolist()\n",
    "corpus[0]\n",
    "print('total number of reviews: ', len(corpus))"
   ]
  },
  {
   "cell_type": "code",
   "execution_count": 4,
   "id": "junior-suspension",
   "metadata": {},
   "outputs": [
    {
     "name": "stdout",
     "output_type": "stream",
     "text": [
      "CPU times: user 11.2 s, sys: 9.45 s, total: 20.7 s\n",
      "Wall time: 8.65 s\n"
     ]
    }
   ],
   "source": [
    "%%time\n",
    "import tensorflow_hub as hub\n",
    "module = \"https://tfhub.dev/google/universal-sentence-encoder/4\"\n",
    "embedder = hub.load(module)\n",
    "corpus_embeddings = embedder(corpus)"
   ]
  },
  {
   "cell_type": "code",
   "execution_count": 5,
   "id": "experienced-zimbabwe",
   "metadata": {},
   "outputs": [
    {
     "name": "stdout",
     "output_type": "stream",
     "text": [
      "embedding shape is:  (10000, 512)\n"
     ]
    }
   ],
   "source": [
    "print('embedding shape is: ',corpus_embeddings.shape)"
   ]
  },
  {
   "cell_type": "code",
   "execution_count": 180,
   "id": "institutional-stationery",
   "metadata": {},
   "outputs": [
    {
     "data": {
      "text/plain": [
       "TensorShape([1, 512])"
      ]
     },
     "execution_count": 180,
     "metadata": {},
     "output_type": "execute_result"
    }
   ],
   "source": [
    "#query = [\"Staff were AMAZING - so friendly and accommodating.\"] #q_id = 1\n",
    "query = ['We had a 2 bedroom suite with a hot tub.'] #q_id = 3\n",
    "#query = ['Very private setting and great atmosphere.'] #q_id = 4\n",
    "q_id = 3\n",
    "query_vec = embedder(query) #encodes the string in the list\n",
    "query_vec.shape"
   ]
  },
  {
   "cell_type": "code",
   "execution_count": 181,
   "id": "radio-cookbook",
   "metadata": {},
   "outputs": [],
   "source": [
    "correlation = np.transpose(np.inner(query_vec,corpus_embeddings))"
   ]
  },
  {
   "cell_type": "code",
   "execution_count": 182,
   "id": "english-aberdeen",
   "metadata": {},
   "outputs": [
    {
     "data": {
      "text/html": [
       "<div>\n",
       "<style scoped>\n",
       "    .dataframe tbody tr th:only-of-type {\n",
       "        vertical-align: middle;\n",
       "    }\n",
       "\n",
       "    .dataframe tbody tr th {\n",
       "        vertical-align: top;\n",
       "    }\n",
       "\n",
       "    .dataframe thead th {\n",
       "        text-align: right;\n",
       "    }\n",
       "</style>\n",
       "<table border=\"1\" class=\"dataframe\">\n",
       "  <thead>\n",
       "    <tr style=\"text-align: right;\">\n",
       "      <th></th>\n",
       "      <th>text</th>\n",
       "      <th>correlation</th>\n",
       "      <th>review_id</th>\n",
       "    </tr>\n",
       "  </thead>\n",
       "  <tbody>\n",
       "    <tr>\n",
       "      <th>3</th>\n",
       "      <td>We had a 2 bedroom suite with a hot tub.</td>\n",
       "      <td>[0.9999999]</td>\n",
       "      <td>3872009990</td>\n",
       "    </tr>\n",
       "    <tr>\n",
       "      <th>6260</th>\n",
       "      <td>The hot tub was perfect after long walks right beside the property.</td>\n",
       "      <td>[0.51062834]</td>\n",
       "      <td>3877178741</td>\n",
       "    </tr>\n",
       "    <tr>\n",
       "      <th>4040</th>\n",
       "      <td>We really liked the hot tub on the back terrace.</td>\n",
       "      <td>[0.5039953]</td>\n",
       "      <td>3875813249</td>\n",
       "    </tr>\n",
       "    <tr>\n",
       "      <th>6464</th>\n",
       "      <td>The room has a nice jacuzzi bath and good space in the suite.</td>\n",
       "      <td>[0.49806815]</td>\n",
       "      <td>3877300974</td>\n",
       "    </tr>\n",
       "    <tr>\n",
       "      <th>8526</th>\n",
       "      <td>Room was very nice and big and the spa bath tub was great🙂</td>\n",
       "      <td>[0.4777955]</td>\n",
       "      <td>3877665763</td>\n",
       "    </tr>\n",
       "  </tbody>\n",
       "</table>\n",
       "</div>"
      ],
      "text/plain": [
       "                                                                     text  \\\n",
       "3     We had a 2 bedroom suite with a hot tub.                              \n",
       "6260  The hot tub was perfect after long walks right beside the property.   \n",
       "4040  We really liked the hot tub on the back terrace.                      \n",
       "6464  The room has a nice jacuzzi bath and good space in the suite.         \n",
       "8526  Room was very nice and big and the spa bath tub was great🙂            \n",
       "\n",
       "       correlation   review_id  \n",
       "3     [0.9999999]   3872009990  \n",
       "6260  [0.51062834]  3877178741  \n",
       "4040  [0.5039953]   3875813249  \n",
       "6464  [0.49806815]  3877300974  \n",
       "8526  [0.4777955]   3877665763  "
      ]
     },
     "execution_count": 182,
     "metadata": {},
     "output_type": "execute_result"
    }
   ],
   "source": [
    "df_cor = pd.DataFrame(list(zip(corpus, correlation)), columns = ['text', 'correlation'])\n",
    "df_cor['review_id'] = data['review_id']\n",
    "df_cor = df_cor.sort_values(by = 'correlation', ascending = False)\n",
    "df_cor.head()"
   ]
  },
  {
   "cell_type": "code",
   "execution_count": 183,
   "id": "featured-differential",
   "metadata": {},
   "outputs": [
    {
     "data": {
      "text/html": [
       "<div>\n",
       "<style scoped>\n",
       "    .dataframe tbody tr th:only-of-type {\n",
       "        vertical-align: middle;\n",
       "    }\n",
       "\n",
       "    .dataframe tbody tr th {\n",
       "        vertical-align: top;\n",
       "    }\n",
       "\n",
       "    .dataframe thead th {\n",
       "        text-align: right;\n",
       "    }\n",
       "</style>\n",
       "<table border=\"1\" class=\"dataframe\">\n",
       "  <thead>\n",
       "    <tr style=\"text-align: right;\">\n",
       "      <th></th>\n",
       "      <th>text</th>\n",
       "      <th>correlation</th>\n",
       "      <th>review_id</th>\n",
       "    </tr>\n",
       "  </thead>\n",
       "  <tbody>\n",
       "    <tr>\n",
       "      <th>3</th>\n",
       "      <td>We had a 2 bedroom suite with a hot tub.</td>\n",
       "      <td>[0.9999999]</td>\n",
       "      <td>3872009990</td>\n",
       "    </tr>\n",
       "    <tr>\n",
       "      <th>6260</th>\n",
       "      <td>The hot tub was perfect after long walks right beside the property.</td>\n",
       "      <td>[0.51062834]</td>\n",
       "      <td>3877178741</td>\n",
       "    </tr>\n",
       "    <tr>\n",
       "      <th>4040</th>\n",
       "      <td>We really liked the hot tub on the back terrace.</td>\n",
       "      <td>[0.5039953]</td>\n",
       "      <td>3875813249</td>\n",
       "    </tr>\n",
       "    <tr>\n",
       "      <th>6464</th>\n",
       "      <td>The room has a nice jacuzzi bath and good space in the suite.</td>\n",
       "      <td>[0.49806815]</td>\n",
       "      <td>3877300974</td>\n",
       "    </tr>\n",
       "    <tr>\n",
       "      <th>8526</th>\n",
       "      <td>Room was very nice and big and the spa bath tub was great🙂</td>\n",
       "      <td>[0.4777955]</td>\n",
       "      <td>3877665763</td>\n",
       "    </tr>\n",
       "    <tr>\n",
       "      <th>8494</th>\n",
       "      <td>We had a studio room with verandah overlooking the pool.</td>\n",
       "      <td>[0.46912342]</td>\n",
       "      <td>3877662530</td>\n",
       "    </tr>\n",
       "    <tr>\n",
       "      <th>1920</th>\n",
       "      <td>The pool &amp; hot tub was amazing.</td>\n",
       "      <td>[0.4654414]</td>\n",
       "      <td>3874156095</td>\n",
       "    </tr>\n",
       "    <tr>\n",
       "      <th>2611</th>\n",
       "      <td>The pool’s jacuzzi was a plus for relaxation.</td>\n",
       "      <td>[0.44877625]</td>\n",
       "      <td>3874196780</td>\n",
       "    </tr>\n",
       "    <tr>\n",
       "      <th>8450</th>\n",
       "      <td>We loved the pool, jacuzzi, and the beautiful garden.</td>\n",
       "      <td>[0.42410147]</td>\n",
       "      <td>3877659969</td>\n",
       "    </tr>\n",
       "    <tr>\n",
       "      <th>7973</th>\n",
       "      <td>Great space to hang out after using the hot tub.</td>\n",
       "      <td>[0.42311567]</td>\n",
       "      <td>3877615858</td>\n",
       "    </tr>\n",
       "  </tbody>\n",
       "</table>\n",
       "</div>"
      ],
      "text/plain": [
       "                                                                     text  \\\n",
       "3     We had a 2 bedroom suite with a hot tub.                              \n",
       "6260  The hot tub was perfect after long walks right beside the property.   \n",
       "4040  We really liked the hot tub on the back terrace.                      \n",
       "6464  The room has a nice jacuzzi bath and good space in the suite.         \n",
       "8526  Room was very nice and big and the spa bath tub was great🙂            \n",
       "8494  We had a studio room with verandah overlooking the pool.              \n",
       "1920  The pool & hot tub was amazing.                                       \n",
       "2611  The pool’s jacuzzi was a plus for relaxation.                         \n",
       "8450  We loved the pool, jacuzzi, and the beautiful garden.                 \n",
       "7973  Great space to hang out after using the hot tub.                      \n",
       "\n",
       "       correlation   review_id  \n",
       "3     [0.9999999]   3872009990  \n",
       "6260  [0.51062834]  3877178741  \n",
       "4040  [0.5039953]   3875813249  \n",
       "6464  [0.49806815]  3877300974  \n",
       "8526  [0.4777955]   3877665763  \n",
       "8494  [0.46912342]  3877662530  \n",
       "1920  [0.4654414]   3874156095  \n",
       "2611  [0.44877625]  3874196780  \n",
       "8450  [0.42410147]  3877659969  \n",
       "7973  [0.42311567]  3877615858  "
      ]
     },
     "execution_count": 183,
     "metadata": {},
     "output_type": "execute_result"
    }
   ],
   "source": [
    "# top 20 most similar text to 'staff were amazing'\n",
    "# with universal sentence encoder\n",
    "df_cor.head(10)"
   ]
  },
  {
   "cell_type": "code",
   "execution_count": 184,
   "id": "dangerous-hurricane",
   "metadata": {},
   "outputs": [
    {
     "name": "stderr",
     "output_type": "stream",
     "text": [
      "/opt/conda/lib/python3.7/site-packages/matplotlib/backends/backend_agg.py:238: RuntimeWarning: Glyph 128578 missing from current font.\n",
      "  font.set_text(s, 0.0, flags=flags)\n",
      "/opt/conda/lib/python3.7/site-packages/matplotlib/backends/backend_agg.py:201: RuntimeWarning: Glyph 128578 missing from current font.\n",
      "  font.set_text(s, 0, flags=flags)\n"
     ]
    },
    {
     "data": {
      "text/plain": [
       "Text(26.49999999999997, 0.5, 'Output Sentence')"
      ]
     },
     "execution_count": 184,
     "metadata": {},
     "output_type": "execute_result"
    },
    {
     "data": {
      "image/png": "[encoded data removed]",
      "text/plain": [
       "<Figure size 432x288 with 2 Axes>"
      ]
     },
     "metadata": {},
     "output_type": "display_data"
    }
   ],
   "source": [
    "import seaborn as sns\n",
    "\n",
    "data_plt = df_cor.iloc[np.r_[0:10]]\n",
    "sns.set(font_scale=1.2)\n",
    "g = sns.heatmap(\n",
    "      data_plt['correlation'].tolist(),\n",
    "      xticklabels=query,\n",
    "      yticklabels=data_plt['text'].tolist(),\n",
    "      vmin=0,\n",
    "      vmax=1,\n",
    "      cmap=\"YlOrRd\")\n",
    "g.set_title('Top 10 similar sentences of input sentence \\n Universal Sentence Encoding ', fontsize=20, pad=40)\n",
    "g.set_xlabel('Input Sentence', color = 'b', fontsize = 15)\n",
    "g.tick_params(axis='x', colors='b')\n",
    "g.set_ylabel('Output Sentence',fontsize = 15)"
   ]
  },
  {
   "cell_type": "code",
   "execution_count": 185,
   "id": "alternate-sandwich",
   "metadata": {},
   "outputs": [
    {
     "name": "stdout",
     "output_type": "stream",
     "text": [
      "CPU times: user 1h 18min 32s, sys: 16min 48s, total: 1h 35min 21s\n",
      "Wall time: 1min 1s\n"
     ]
    }
   ],
   "source": [
    "%%time\n",
    "import umap\n",
    "mapper = umap.UMAP(n_neighbors=100,\n",
    "                               n_components=384,\n",
    "                               metric='cosine').fit(corpus_embeddings)"
   ]
  },
  {
   "cell_type": "code",
   "execution_count": 186,
   "id": "fiscal-worth",
   "metadata": {},
   "outputs": [
    {
     "data": {
      "text/plain": [
       "(10000, 384)"
      ]
     },
     "execution_count": 186,
     "metadata": {},
     "output_type": "execute_result"
    }
   ],
   "source": [
    "mapper.embedding_.shape"
   ]
  },
  {
   "cell_type": "code",
   "execution_count": 187,
   "id": "criminal-essex",
   "metadata": {},
   "outputs": [
    {
     "data": {
      "text/plain": [
       "'We had a 2 bedroom suite with a hot tub.'"
      ]
     },
     "execution_count": 187,
     "metadata": {},
     "output_type": "execute_result"
    }
   ],
   "source": [
    "corpus[q_id]"
   ]
  },
  {
   "cell_type": "code",
   "execution_count": 188,
   "id": "binary-inclusion",
   "metadata": {},
   "outputs": [
    {
     "data": {
      "text/plain": [
       "(384,)"
      ]
     },
     "execution_count": 188,
     "metadata": {},
     "output_type": "execute_result"
    }
   ],
   "source": [
    "query_vec_red =mapper.embedding_[q_id]\n",
    "query_vec_red.shape"
   ]
  },
  {
   "cell_type": "raw",
   "id": "knowing-vampire",
   "metadata": {},
   "source": [
    "from scipy.stats.stats import pearsonr   \n",
    "from scipy import spatial\n",
    "\n",
    "\n",
    "print('pearson correlation: ',pearsonr(query_vec_red, mapper.embedding_[0]))\n",
    "print('scipy cosine similarity: ', 1 - spatial.distance.cosine(query_vec_red, mapper.embedding_[0]))\n",
    "print('euclidean distrance; ', spatial.distance.euclidean(query_vec_red, mapper.embedding_[0]))"
   ]
  },
  {
   "cell_type": "raw",
   "id": "right-uncertainty",
   "metadata": {},
   "source": [
    "q = [np.array(query_vec_red)]\n",
    "c = np.array(mapper.embedding_[0:5])\n",
    "c.shape"
   ]
  },
  {
   "cell_type": "raw",
   "id": "vulnerable-escape",
   "metadata": {},
   "source": [
    "np.linalg.norm(q-c[0])"
   ]
  },
  {
   "cell_type": "raw",
   "id": "athletic-meditation",
   "metadata": {},
   "source": [
    "np.linalg.norm(q-c[1])"
   ]
  },
  {
   "cell_type": "raw",
   "id": "flush-combining",
   "metadata": {},
   "source": [
    "np.linalg.norm(q-c[3])"
   ]
  },
  {
   "cell_type": "code",
   "execution_count": 80,
   "id": "powerful-arrest",
   "metadata": {},
   "outputs": [
    {
     "data": {
      "text/plain": [
       "array([[2.4322693, 3.4264202, 2.1182513, 0.       , 2.1607616]],\n",
       "      dtype=float32)"
      ]
     },
     "execution_count": 80,
     "metadata": {},
     "output_type": "execute_result"
    }
   ],
   "source": [
    "def run_euc(query_vec,corpus_vec):\n",
    "    return np.array([[ np.linalg.norm(i-j) for j in corpus_vec] for i in query_vec])"
   ]
  },
  {
   "cell_type": "raw",
   "id": "progressive-bones",
   "metadata": {},
   "source": [
    "c_list = run_euc(q,c)\n",
    "c_list\n",
    "c_list[0][0]"
   ]
  },
  {
   "cell_type": "code",
   "execution_count": 189,
   "id": "cooperative-university",
   "metadata": {},
   "outputs": [
    {
     "data": {
      "text/html": [
       "<div>\n",
       "<style scoped>\n",
       "    .dataframe tbody tr th:only-of-type {\n",
       "        vertical-align: middle;\n",
       "    }\n",
       "\n",
       "    .dataframe tbody tr th {\n",
       "        vertical-align: top;\n",
       "    }\n",
       "\n",
       "    .dataframe thead th {\n",
       "        text-align: right;\n",
       "    }\n",
       "</style>\n",
       "<table border=\"1\" class=\"dataframe\">\n",
       "  <thead>\n",
       "    <tr style=\"text-align: right;\">\n",
       "      <th></th>\n",
       "      <th>text</th>\n",
       "      <th>correlation_reduced</th>\n",
       "      <th>review_id</th>\n",
       "    </tr>\n",
       "  </thead>\n",
       "  <tbody>\n",
       "    <tr>\n",
       "      <th>3</th>\n",
       "      <td>We had a 2 bedroom suite with a hot tub.</td>\n",
       "      <td>0.000000</td>\n",
       "      <td>3872009990</td>\n",
       "    </tr>\n",
       "    <tr>\n",
       "      <th>4040</th>\n",
       "      <td>We really liked the hot tub on the back terrace.</td>\n",
       "      <td>0.075956</td>\n",
       "      <td>3875813249</td>\n",
       "    </tr>\n",
       "    <tr>\n",
       "      <th>1398</th>\n",
       "      <td>The cave including the whirlpool is absolutely amazing and a place to relax.</td>\n",
       "      <td>0.101407</td>\n",
       "      <td>3874115968</td>\n",
       "    </tr>\n",
       "    <tr>\n",
       "      <th>3756</th>\n",
       "      <td>So couldn’t use jacuzzi   Need a car  Other than that.</td>\n",
       "      <td>0.134750</td>\n",
       "      <td>3875704929</td>\n",
       "    </tr>\n",
       "    <tr>\n",
       "      <th>6260</th>\n",
       "      <td>The hot tub was perfect after long walks right beside the property.</td>\n",
       "      <td>0.140171</td>\n",
       "      <td>3877178741</td>\n",
       "    </tr>\n",
       "  </tbody>\n",
       "</table>\n",
       "</div>"
      ],
      "text/plain": [
       "                                                                              text  \\\n",
       "3     We had a 2 bedroom suite with a hot tub.                                       \n",
       "4040  We really liked the hot tub on the back terrace.                               \n",
       "1398  The cave including the whirlpool is absolutely amazing and a place to relax.   \n",
       "3756  So couldn’t use jacuzzi   Need a car  Other than that.                         \n",
       "6260  The hot tub was perfect after long walks right beside the property.            \n",
       "\n",
       "      correlation_reduced   review_id  \n",
       "3     0.000000             3872009990  \n",
       "4040  0.075956             3875813249  \n",
       "1398  0.101407             3874115968  \n",
       "3756  0.134750             3875704929  \n",
       "6260  0.140171             3877178741  "
      ]
     },
     "execution_count": 189,
     "metadata": {},
     "output_type": "execute_result"
    }
   ],
   "source": [
    "#correlation_red = np.transpose(np.inner(query_vec_red,mapper.embedding_))\n",
    "correlation_red = run_euc([[np.array(query_vec_red)]],np.array(mapper.embedding_))[0]\n",
    "df_cor_red = pd.DataFrame(list(zip(corpus, correlation_red)), columns = ['text', 'correlation_reduced'])\n",
    "df_cor_red['review_id'] = data['review_id']\n",
    "df_cor_red = df_cor_red.sort_values(by = 'correlation_reduced', ascending = True)\n",
    "df_cor_red.head()"
   ]
  },
  {
   "cell_type": "code",
   "execution_count": 190,
   "id": "qualified-florida",
   "metadata": {},
   "outputs": [
    {
     "data": {
      "text/html": [
       "<div>\n",
       "<style scoped>\n",
       "    .dataframe tbody tr th:only-of-type {\n",
       "        vertical-align: middle;\n",
       "    }\n",
       "\n",
       "    .dataframe tbody tr th {\n",
       "        vertical-align: top;\n",
       "    }\n",
       "\n",
       "    .dataframe thead th {\n",
       "        text-align: right;\n",
       "    }\n",
       "</style>\n",
       "<table border=\"1\" class=\"dataframe\">\n",
       "  <thead>\n",
       "    <tr style=\"text-align: right;\">\n",
       "      <th></th>\n",
       "      <th>text</th>\n",
       "      <th>correlation_reduced</th>\n",
       "      <th>review_id</th>\n",
       "    </tr>\n",
       "  </thead>\n",
       "  <tbody>\n",
       "    <tr>\n",
       "      <th>5432</th>\n",
       "      <td>Staff were very friendly and helpful.</td>\n",
       "      <td>4.156804</td>\n",
       "      <td>3875897519</td>\n",
       "    </tr>\n",
       "    <tr>\n",
       "      <th>5836</th>\n",
       "      <td>Staff were very friendly and helpful.</td>\n",
       "      <td>4.159103</td>\n",
       "      <td>3877135632</td>\n",
       "    </tr>\n",
       "    <tr>\n",
       "      <th>4464</th>\n",
       "      <td>Staff was very friendly and helpful.</td>\n",
       "      <td>4.165325</td>\n",
       "      <td>3875834701</td>\n",
       "    </tr>\n",
       "    <tr>\n",
       "      <th>9172</th>\n",
       "      <td>Staff were very friendly and helpful</td>\n",
       "      <td>4.179461</td>\n",
       "      <td>3878405125</td>\n",
       "    </tr>\n",
       "    <tr>\n",
       "      <th>326</th>\n",
       "      <td>Staff were very friendly and helpful.</td>\n",
       "      <td>4.196103</td>\n",
       "      <td>3873124247</td>\n",
       "    </tr>\n",
       "  </tbody>\n",
       "</table>\n",
       "</div>"
      ],
      "text/plain": [
       "                                       text  correlation_reduced   review_id\n",
       "5432  Staff were very friendly and helpful.  4.156804             3875897519\n",
       "5836  Staff were very friendly and helpful.  4.159103             3877135632\n",
       "4464  Staff was very friendly and helpful.   4.165325             3875834701\n",
       "9172  Staff were very friendly and helpful   4.179461             3878405125\n",
       "326   Staff were very friendly and helpful.  4.196103             3873124247"
      ]
     },
     "execution_count": 190,
     "metadata": {},
     "output_type": "execute_result"
    }
   ],
   "source": [
    "df_cor_red.tail(5)"
   ]
  },
  {
   "cell_type": "code",
   "execution_count": 191,
   "id": "technological-crisis",
   "metadata": {},
   "outputs": [
    {
     "name": "stderr",
     "output_type": "stream",
     "text": [
      "/opt/conda/lib/python3.7/site-packages/ipykernel_launcher.py:3: FutureWarning: Passing a negative integer is deprecated in version 1.0 and will not be supported in future version. Instead, use None to not limit the column width.\n",
      "  This is separate from the ipykernel package so we can avoid doing imports until\n"
     ]
    },
    {
     "data": {
      "text/html": [
       "<div>\n",
       "<style scoped>\n",
       "    .dataframe tbody tr th:only-of-type {\n",
       "        vertical-align: middle;\n",
       "    }\n",
       "\n",
       "    .dataframe tbody tr th {\n",
       "        vertical-align: top;\n",
       "    }\n",
       "\n",
       "    .dataframe thead th {\n",
       "        text-align: right;\n",
       "    }\n",
       "</style>\n",
       "<table border=\"1\" class=\"dataframe\">\n",
       "  <thead>\n",
       "    <tr style=\"text-align: right;\">\n",
       "      <th></th>\n",
       "      <th>text</th>\n",
       "      <th>correlation_reduced</th>\n",
       "      <th>review_id</th>\n",
       "    </tr>\n",
       "  </thead>\n",
       "  <tbody>\n",
       "    <tr>\n",
       "      <th>3</th>\n",
       "      <td>We had a 2 bedroom suite with a hot tub.</td>\n",
       "      <td>0.000000</td>\n",
       "      <td>3872009990</td>\n",
       "    </tr>\n",
       "    <tr>\n",
       "      <th>4040</th>\n",
       "      <td>We really liked the hot tub on the back terrace.</td>\n",
       "      <td>0.075956</td>\n",
       "      <td>3875813249</td>\n",
       "    </tr>\n",
       "    <tr>\n",
       "      <th>1398</th>\n",
       "      <td>The cave including the whirlpool is absolutely amazing and a place to relax.</td>\n",
       "      <td>0.101407</td>\n",
       "      <td>3874115968</td>\n",
       "    </tr>\n",
       "    <tr>\n",
       "      <th>3756</th>\n",
       "      <td>So couldn’t use jacuzzi   Need a car  Other than that.</td>\n",
       "      <td>0.134750</td>\n",
       "      <td>3875704929</td>\n",
       "    </tr>\n",
       "    <tr>\n",
       "      <th>6260</th>\n",
       "      <td>The hot tub was perfect after long walks right beside the property.</td>\n",
       "      <td>0.140171</td>\n",
       "      <td>3877178741</td>\n",
       "    </tr>\n",
       "    <tr>\n",
       "      <th>4925</th>\n",
       "      <td>The apartament is very beautiful,clean and very is very complete, the jacuzzi and a point of strength!</td>\n",
       "      <td>0.160461</td>\n",
       "      <td>3875867022</td>\n",
       "    </tr>\n",
       "    <tr>\n",
       "      <th>7973</th>\n",
       "      <td>Great space to hang out after using the hot tub.</td>\n",
       "      <td>0.169773</td>\n",
       "      <td>3877615858</td>\n",
       "    </tr>\n",
       "    <tr>\n",
       "      <th>738</th>\n",
       "      <td>The jacuzzi is a fantastic idea after Lind walks.</td>\n",
       "      <td>0.201471</td>\n",
       "      <td>3873163217</td>\n",
       "    </tr>\n",
       "    <tr>\n",
       "      <th>2611</th>\n",
       "      <td>The pool’s jacuzzi was a plus for relaxation.</td>\n",
       "      <td>0.250958</td>\n",
       "      <td>3874196780</td>\n",
       "    </tr>\n",
       "    <tr>\n",
       "      <th>6464</th>\n",
       "      <td>The room has a nice jacuzzi bath and good space in the suite.</td>\n",
       "      <td>0.256595</td>\n",
       "      <td>3877300974</td>\n",
       "    </tr>\n",
       "  </tbody>\n",
       "</table>\n",
       "</div>"
      ],
      "text/plain": [
       "                                                                                                        text  \\\n",
       "3     We had a 2 bedroom suite with a hot tub.                                                                 \n",
       "4040  We really liked the hot tub on the back terrace.                                                         \n",
       "1398  The cave including the whirlpool is absolutely amazing and a place to relax.                             \n",
       "3756  So couldn’t use jacuzzi   Need a car  Other than that.                                                   \n",
       "6260  The hot tub was perfect after long walks right beside the property.                                      \n",
       "4925  The apartament is very beautiful,clean and very is very complete, the jacuzzi and a point of strength!   \n",
       "7973  Great space to hang out after using the hot tub.                                                         \n",
       "738   The jacuzzi is a fantastic idea after Lind walks.                                                        \n",
       "2611  The pool’s jacuzzi was a plus for relaxation.                                                            \n",
       "6464  The room has a nice jacuzzi bath and good space in the suite.                                            \n",
       "\n",
       "      correlation_reduced   review_id  \n",
       "3     0.000000             3872009990  \n",
       "4040  0.075956             3875813249  \n",
       "1398  0.101407             3874115968  \n",
       "3756  0.134750             3875704929  \n",
       "6260  0.140171             3877178741  \n",
       "4925  0.160461             3875867022  \n",
       "7973  0.169773             3877615858  \n",
       "738   0.201471             3873163217  \n",
       "2611  0.250958             3874196780  \n",
       "6464  0.256595             3877300974  "
      ]
     },
     "execution_count": 191,
     "metadata": {},
     "output_type": "execute_result"
    }
   ],
   "source": [
    "# top 20 most similar text to 'staff were amazing'\n",
    "# with umap reduced the dimension from 512 to 384\n",
    "pd.set_option('display.max_colwidth', -1)\n",
    "df_cor_red.head(10)"
   ]
  },
  {
   "cell_type": "code",
   "execution_count": 192,
   "id": "wrapped-eight",
   "metadata": {},
   "outputs": [],
   "source": [
    "from sklearn import preprocessing\n",
    "\n",
    "x = df_cor_red['correlation_reduced'].values.reshape( df_cor_red.shape[0],1) #returns a numpy array\n",
    "min_max_scaler = preprocessing.MinMaxScaler()\n",
    "x_scaled = min_max_scaler.fit_transform(x)\n",
    "df_cor_red['correlation_reduced_norm'] = 1- x_scaled"
   ]
  },
  {
   "cell_type": "code",
   "execution_count": 193,
   "id": "growing-blink",
   "metadata": {},
   "outputs": [
    {
     "data": {
      "text/plain": [
       "Text(26.49999999999997, 0.5, 'Output Sentence')"
      ]
     },
     "execution_count": 193,
     "metadata": {},
     "output_type": "execute_result"
    },
    {
     "data": {
      "image/png": "[encoded data removed]",
      "text/plain": [
       "<Figure size 432x288 with 2 Axes>"
      ]
     },
     "metadata": {},
     "output_type": "display_data"
    }
   ],
   "source": [
    "data_plt = df_cor_red.iloc[np.r_[0:5]]\n",
    "sha = data_plt.shape[0]\n",
    "sns.set(font_scale=1.2)\n",
    "g = sns.heatmap(\n",
    "#      data_plt['correlation_reduced'].values.reshape(sha, 1),\n",
    "      data_plt['correlation_reduced_norm'].values.reshape(sha, 1),\n",
    "      xticklabels=query,\n",
    "      yticklabels=data_plt['text'].tolist(),\n",
    "      vmin=0,\n",
    "      vmax=1,\n",
    "      cmap=\"YlOrRd\")\n",
    "g.set_title('Top 5 similar sentences of input sentence \\n UMAP Reduced Universal Sentence Encoding ', fontsize=20, pad=40)\n",
    "g.set_xlabel('Input Sentence', color = 'b', fontsize = 15)\n",
    "g.tick_params(axis='x', colors='b')\n",
    "g.set_ylabel('Output Sentence',fontsize = 15)"
   ]
  },
  {
   "cell_type": "code",
   "execution_count": null,
   "id": "informal-galaxy",
   "metadata": {},
   "outputs": [],
   "source": []
  }
 ],
 "metadata": {
  "kernelspec": {
   "display_name": "Python 3",
   "language": "python",
   "name": "python3"
  },
  "language_info": {
   "codemirror_mode": {
    "name": "ipython",
    "version": 3
   },
   "file_extension": ".py",
   "mimetype": "text/x-python",
   "name": "python",
   "nbconvert_exporter": "python",
   "pygments_lexer": "ipython3",
   "version": "3.7.9"
  }
 },
 "nbformat": 4,
 "nbformat_minor": 5
}
