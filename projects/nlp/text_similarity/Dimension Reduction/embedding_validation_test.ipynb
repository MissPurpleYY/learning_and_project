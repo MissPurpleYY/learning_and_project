{
 "cells": [
  {
   "cell_type": "code",
   "execution_count": 1,
   "id": "promising-metabolism",
   "metadata": {},
   "outputs": [],
   "source": [
    "import pandas as pd\n",
    "import numpy as np\n",
    "import warnings\n",
    "warnings.filterwarnings(\"ignore\",category=DeprecationWarning)"
   ]
  },
  {
   "cell_type": "code",
   "execution_count": 2,
   "id": "toxic-wright",
   "metadata": {},
   "outputs": [],
   "source": [
    "# Query sentences:\n",
    "queries = ['bath', \n",
    "          'beach',\n",
    "          'location']"
   ]
  },
  {
   "cell_type": "code",
   "execution_count": 3,
   "id": "indoor-seating",
   "metadata": {},
   "outputs": [],
   "source": [
    "corpus = ['Perfect plan B for our beach wedding that we couldn’t have.' #beach\n",
    "         ,'Staff were AMAZING - so friendly and accommodating.' # no tag\n",
    "         ,'All apartments with a pool view Ten minute walk to the centre of town, very friendly, helpful and flexible staff and good clean rooms and comfy beds'# location\n",
    "         ,'We had a 2 bedroom suite with a hot tub.' #bath\n",
    "         ,'Overall the room was very clean, as were the bathrooms.'#bath\n",
    "         ,'The property is very close to everything' #location\n",
    "         ,'The beach is less than a two minute walk as-well as restaurants and bars and some small shops so it’s ideally placed .' #beach or location\n",
    "         ,'The location only 5 min drive from a shopping mall with restaurants.' #location\n",
    "         ]"
   ]
  },
  {
   "cell_type": "code",
   "execution_count": 4,
   "id": "antique-angola",
   "metadata": {},
   "outputs": [],
   "source": [
    "import tensorflow_hub as hub\n",
    "module = \"https://tfhub.dev/google/universal-sentence-encoder/4\"\n",
    "embedder = hub.load(module)\n",
    "corpus_embeddings = embedder(corpus)"
   ]
  },
  {
   "cell_type": "code",
   "execution_count": 5,
   "id": "complete-order",
   "metadata": {},
   "outputs": [],
   "source": [
    "import scipy\n",
    "import math\n",
    "\n",
    "def hub_similarity(query, text, embedder):\n",
    "    query_embedding = tf.nn.l2_normalize(embedder(tf.constant([query])), axis=1)\n",
    "    text_embedding = tf.nn.l2_normalize(embedder(tf.constant([text])), axis=1)\n",
    "    \n",
    "    cosine_similarities = tf.reduce_sum(tf.multiply(query_embedding, text_embedding ), axis=1)\n",
    "    clip_cosine_similarities = tf.clip_by_value(cosine_similarities, -1.0, 1.0)\n",
    "    scores = 1.0 - tf.acos(clip_cosine_similarities) / math.pi\n",
    "    \n",
    "    return scores"
   ]
  },
  {
   "cell_type": "code",
   "execution_count": 6,
   "id": "civilian-nowhere",
   "metadata": {},
   "outputs": [
    {
     "name": "stdout",
     "output_type": "stream",
     "text": [
      "\n",
      "\n",
      "======================\n",
      "\n",
      "\n",
      "Query: bath\n",
      "\n",
      "Top 3 most similar sentences in corpus:\n",
      "We had a 2 bedroom suite with a hot tub. (Score: 0.5843)\n",
      "Overall the room was very clean, as were the bathrooms. (Score: 0.5574)\n",
      "The property is very close to everything (Score: 0.5349)\n",
      "\n",
      "\n",
      "======================\n",
      "\n",
      "\n",
      "Query: beach\n",
      "\n",
      "Top 3 most similar sentences in corpus:\n",
      "Perfect plan B for our beach wedding that we couldn’t have. (Score: 0.5916)\n",
      "The beach is less than a two minute walk as-well as restaurants and bars and some small shops so it’s ideally placed . (Score: 0.5753)\n",
      "The property is very close to everything (Score: 0.5380)\n",
      "\n",
      "\n",
      "======================\n",
      "\n",
      "\n",
      "Query: location\n",
      "\n",
      "Top 3 most similar sentences in corpus:\n",
      "The property is very close to everything (Score: 0.5513)\n",
      "The location only 5 min drive from a shopping mall with restaurants. (Score: 0.5367)\n",
      "The beach is less than a two minute walk as-well as restaurants and bars and some small shops so it’s ideally placed . (Score: 0.5310)\n"
     ]
    }
   ],
   "source": [
    "import tensorflow as tf\n",
    "from operator import itemgetter\n",
    "top_k = 3\n",
    "\n",
    "for query in queries:\n",
    "    scores = []\n",
    "    for text in corpus:\n",
    "        score = hub_similarity(query, text, embedder)\n",
    "        scores.append(score.numpy()[0])\n",
    "    results = zip(corpus, scores)\n",
    "    top_results = sorted(results, key= itemgetter(1), reverse = True)[0:top_k]\n",
    "\n",
    "    print(\"\\n\\n======================\\n\\n\")\n",
    "    print(\"Query:\", query)\n",
    "    print(\"\\nTop 3 most similar sentences in corpus:\")\n",
    "\n",
    "    for text, score in top_results:\n",
    "        print(text, \"(Score: %.4f)\" % (score))"
   ]
  },
  {
   "cell_type": "code",
   "execution_count": 7,
   "id": "buried-credit",
   "metadata": {},
   "outputs": [
    {
     "data": {
      "text/html": [
       "<div>\n",
       "<style scoped>\n",
       "    .dataframe tbody tr th:only-of-type {\n",
       "        vertical-align: middle;\n",
       "    }\n",
       "\n",
       "    .dataframe tbody tr th {\n",
       "        vertical-align: top;\n",
       "    }\n",
       "\n",
       "    .dataframe thead th {\n",
       "        text-align: right;\n",
       "    }\n",
       "</style>\n",
       "<table border=\"1\" class=\"dataframe\">\n",
       "  <thead>\n",
       "    <tr style=\"text-align: right;\">\n",
       "      <th></th>\n",
       "      <th>text</th>\n",
       "      <th>label</th>\n",
       "    </tr>\n",
       "  </thead>\n",
       "  <tbody>\n",
       "    <tr>\n",
       "      <th>0</th>\n",
       "      <td>Perfect plan B for our beach wedding that we c...</td>\n",
       "      <td>beach</td>\n",
       "    </tr>\n",
       "    <tr>\n",
       "      <th>1</th>\n",
       "      <td>Staff were AMAZING - so friendly and accommoda...</td>\n",
       "      <td>staff</td>\n",
       "    </tr>\n",
       "    <tr>\n",
       "      <th>2</th>\n",
       "      <td>All apartments with a pool view Ten minute wal...</td>\n",
       "      <td>location</td>\n",
       "    </tr>\n",
       "    <tr>\n",
       "      <th>3</th>\n",
       "      <td>We had a 2 bedroom suite with a hot tub.</td>\n",
       "      <td>bath</td>\n",
       "    </tr>\n",
       "    <tr>\n",
       "      <th>4</th>\n",
       "      <td>Overall the room was very clean, as were the b...</td>\n",
       "      <td>bath</td>\n",
       "    </tr>\n",
       "    <tr>\n",
       "      <th>5</th>\n",
       "      <td>The property is very close to everything</td>\n",
       "      <td>location</td>\n",
       "    </tr>\n",
       "    <tr>\n",
       "      <th>6</th>\n",
       "      <td>The beach is less than a two minute walk as-we...</td>\n",
       "      <td>beach</td>\n",
       "    </tr>\n",
       "    <tr>\n",
       "      <th>7</th>\n",
       "      <td>The location only 5 min drive from a shopping ...</td>\n",
       "      <td>location</td>\n",
       "    </tr>\n",
       "  </tbody>\n",
       "</table>\n",
       "</div>"
      ],
      "text/plain": [
       "                                                text     label\n",
       "0  Perfect plan B for our beach wedding that we c...     beach\n",
       "1  Staff were AMAZING - so friendly and accommoda...     staff\n",
       "2  All apartments with a pool view Ten minute wal...  location\n",
       "3           We had a 2 bedroom suite with a hot tub.      bath\n",
       "4  Overall the room was very clean, as were the b...      bath\n",
       "5           The property is very close to everything  location\n",
       "6  The beach is less than a two minute walk as-we...     beach\n",
       "7  The location only 5 min drive from a shopping ...  location"
      ]
     },
     "execution_count": 7,
     "metadata": {},
     "output_type": "execute_result"
    }
   ],
   "source": [
    "df = pd.DataFrame({'text':corpus, \n",
    "                  'label': ['beach','staff','location','bath','bath','location','beach','location']})\n",
    "df"
   ]
  },
  {
   "cell_type": "code",
   "execution_count": 32,
   "id": "covered-signature",
   "metadata": {},
   "outputs": [],
   "source": [
    "text = df['text'].tolist()\n",
    "text_embedding = tf.nn.l2_normalize(embedder(tf.constant(text)), axis=1)"
   ]
  },
  {
   "cell_type": "code",
   "execution_count": 33,
   "id": "statewide-philip",
   "metadata": {},
   "outputs": [
    {
     "data": {
      "text/plain": [
       "<tf.Tensor: shape=(8, 512), dtype=float32, numpy=\n",
       "array([[-0.02992763, -0.01007182,  0.01801983, ..., -0.03203385,\n",
       "         0.01416638,  0.04188122],\n",
       "       [-0.08326066,  0.00711939,  0.03198057, ..., -0.06092391,\n",
       "         0.02511997,  0.01230324],\n",
       "       [ 0.00713365, -0.02916948, -0.02869286, ...,  0.06301181,\n",
       "         0.06479787,  0.08371397],\n",
       "       ...,\n",
       "       [-0.05674588, -0.00860478, -0.01318681, ..., -0.02272435,\n",
       "         0.02468883,  0.05523442],\n",
       "       [-0.07812671, -0.04461333, -0.0065792 , ...,  0.01745429,\n",
       "        -0.05469334,  0.06564174],\n",
       "       [-0.01343004,  0.00508374, -0.03574057, ..., -0.04606763,\n",
       "        -0.04331686, -0.02745518]], dtype=float32)>"
      ]
     },
     "execution_count": 33,
     "metadata": {},
     "output_type": "execute_result"
    }
   ],
   "source": [
    "text_embedding "
   ]
  },
  {
   "cell_type": "code",
   "execution_count": 34,
   "id": "greek-table",
   "metadata": {},
   "outputs": [],
   "source": [
    "import umap\n",
    "import umap.plot\n",
    "import matplotlib.pyplot as plt\n",
    "%matplotlib inline"
   ]
  },
  {
   "cell_type": "code",
   "execution_count": 133,
   "id": "respiratory-register",
   "metadata": {},
   "outputs": [
    {
     "name": "stderr",
     "output_type": "stream",
     "text": [
      "/opt/conda/lib/python3.7/site-packages/umap/umap_.py:2215: UserWarning: n_neighbors is larger than the dataset size; truncating to X.shape[0] - 1\n",
      "  \"n_neighbors is larger than the dataset size; truncating to \"\n"
     ]
    },
    {
     "name": "stdout",
     "output_type": "stream",
     "text": [
      "CPU times: user 3.7 s, sys: 3.44 s, total: 7.14 s\n",
      "Wall time: 4.3 s\n"
     ]
    }
   ],
   "source": [
    "%%time\n",
    "mapper = umap.UMAP(n_neighbors=8,\n",
    "                               n_components=5,\n",
    "                               metric='cosine').fit(text_embedding)"
   ]
  },
  {
   "cell_type": "code",
   "execution_count": null,
   "id": "brilliant-woman",
   "metadata": {},
   "outputs": [],
   "source": []
  },
  {
   "cell_type": "raw",
   "id": "fiscal-vampire",
   "metadata": {},
   "source": [
    "mapper.embedding_"
   ]
  },
  {
   "cell_type": "code",
   "execution_count": 37,
   "id": "pediatric-corrections",
   "metadata": {},
   "outputs": [
    {
     "data": {
      "text/plain": [
       "8"
      ]
     },
     "execution_count": 37,
     "metadata": {},
     "output_type": "execute_result"
    }
   ],
   "source": [
    "len(mapper.embedding_)"
   ]
  },
  {
   "cell_type": "code",
   "execution_count": 61,
   "id": "fatty-morocco",
   "metadata": {},
   "outputs": [
    {
     "data": {
      "text/plain": [
       "(8, 5)"
      ]
     },
     "execution_count": 61,
     "metadata": {},
     "output_type": "execute_result"
    }
   ],
   "source": [
    "mapper.embedding_.shape"
   ]
  },
  {
   "cell_type": "code",
   "execution_count": 62,
   "id": "operating-scratch",
   "metadata": {},
   "outputs": [
    {
     "data": {
      "text/html": [
       "<div>\n",
       "<style scoped>\n",
       "    .dataframe tbody tr th:only-of-type {\n",
       "        vertical-align: middle;\n",
       "    }\n",
       "\n",
       "    .dataframe tbody tr th {\n",
       "        vertical-align: top;\n",
       "    }\n",
       "\n",
       "    .dataframe thead th {\n",
       "        text-align: right;\n",
       "    }\n",
       "</style>\n",
       "<table border=\"1\" class=\"dataframe\">\n",
       "  <thead>\n",
       "    <tr style=\"text-align: right;\">\n",
       "      <th></th>\n",
       "      <th>dim1</th>\n",
       "      <th>dim2</th>\n",
       "      <th>dim3</th>\n",
       "      <th>dim4</th>\n",
       "      <th>dim5</th>\n",
       "      <th>emd</th>\n",
       "    </tr>\n",
       "  </thead>\n",
       "  <tbody>\n",
       "    <tr>\n",
       "      <th>0</th>\n",
       "      <td>2.960057</td>\n",
       "      <td>7.748816</td>\n",
       "      <td>3.610958</td>\n",
       "      <td>-3.918318</td>\n",
       "      <td>0.311885</td>\n",
       "      <td>[2.960057258605957, 7.748816013336182, 3.61095...</td>\n",
       "    </tr>\n",
       "    <tr>\n",
       "      <th>1</th>\n",
       "      <td>3.025546</td>\n",
       "      <td>8.872066</td>\n",
       "      <td>3.597700</td>\n",
       "      <td>-3.004746</td>\n",
       "      <td>0.259967</td>\n",
       "      <td>[3.025545597076416, 8.872066497802734, 3.59769...</td>\n",
       "    </tr>\n",
       "    <tr>\n",
       "      <th>2</th>\n",
       "      <td>3.639231</td>\n",
       "      <td>8.900084</td>\n",
       "      <td>4.011639</td>\n",
       "      <td>-3.576865</td>\n",
       "      <td>0.677977</td>\n",
       "      <td>[3.6392314434051514, 8.900083541870117, 4.0116...</td>\n",
       "    </tr>\n",
       "    <tr>\n",
       "      <th>3</th>\n",
       "      <td>2.553021</td>\n",
       "      <td>8.434787</td>\n",
       "      <td>3.987511</td>\n",
       "      <td>-4.503460</td>\n",
       "      <td>0.283527</td>\n",
       "      <td>[2.553021192550659, 8.434786796569824, 3.98751...</td>\n",
       "    </tr>\n",
       "    <tr>\n",
       "      <th>4</th>\n",
       "      <td>2.262900</td>\n",
       "      <td>8.778159</td>\n",
       "      <td>3.597315</td>\n",
       "      <td>-3.617911</td>\n",
       "      <td>0.494508</td>\n",
       "      <td>[2.262899875640869, 8.778159141540527, 3.59731...</td>\n",
       "    </tr>\n",
       "    <tr>\n",
       "      <th>5</th>\n",
       "      <td>2.369797</td>\n",
       "      <td>8.791329</td>\n",
       "      <td>4.558879</td>\n",
       "      <td>-3.777204</td>\n",
       "      <td>0.276829</td>\n",
       "      <td>[2.3697972297668457, 8.791329383850098, 4.5588...</td>\n",
       "    </tr>\n",
       "    <tr>\n",
       "      <th>6</th>\n",
       "      <td>3.568676</td>\n",
       "      <td>8.285285</td>\n",
       "      <td>4.523750</td>\n",
       "      <td>-3.596047</td>\n",
       "      <td>0.052983</td>\n",
       "      <td>[3.568676233291626, 8.285284996032715, 4.52375...</td>\n",
       "    </tr>\n",
       "    <tr>\n",
       "      <th>7</th>\n",
       "      <td>3.333349</td>\n",
       "      <td>8.256815</td>\n",
       "      <td>4.465523</td>\n",
       "      <td>-4.288037</td>\n",
       "      <td>0.546908</td>\n",
       "      <td>[3.3333487510681152, 8.256814956665039, 4.4655...</td>\n",
       "    </tr>\n",
       "  </tbody>\n",
       "</table>\n",
       "</div>"
      ],
      "text/plain": [
       "       dim1      dim2      dim3      dim4      dim5  \\\n",
       "0  2.960057  7.748816  3.610958 -3.918318  0.311885   \n",
       "1  3.025546  8.872066  3.597700 -3.004746  0.259967   \n",
       "2  3.639231  8.900084  4.011639 -3.576865  0.677977   \n",
       "3  2.553021  8.434787  3.987511 -4.503460  0.283527   \n",
       "4  2.262900  8.778159  3.597315 -3.617911  0.494508   \n",
       "5  2.369797  8.791329  4.558879 -3.777204  0.276829   \n",
       "6  3.568676  8.285285  4.523750 -3.596047  0.052983   \n",
       "7  3.333349  8.256815  4.465523 -4.288037  0.546908   \n",
       "\n",
       "                                                 emd  \n",
       "0  [2.960057258605957, 7.748816013336182, 3.61095...  \n",
       "1  [3.025545597076416, 8.872066497802734, 3.59769...  \n",
       "2  [3.6392314434051514, 8.900083541870117, 4.0116...  \n",
       "3  [2.553021192550659, 8.434786796569824, 3.98751...  \n",
       "4  [2.262899875640869, 8.778159141540527, 3.59731...  \n",
       "5  [2.3697972297668457, 8.791329383850098, 4.5588...  \n",
       "6  [3.568676233291626, 8.285284996032715, 4.52375...  \n",
       "7  [3.3333487510681152, 8.256814956665039, 4.4655...  "
      ]
     },
     "execution_count": 62,
     "metadata": {},
     "output_type": "execute_result"
    }
   ],
   "source": [
    "#df_embedding = pd.DataFrame(list(map(np.ravel, mapper.embedding_)), columns = ['dim1','dim2','dim3','dim4','dim5'])\n",
    "df_embedding = pd.DataFrame(mapper.embedding_, columns = ['dim1','dim2','dim3','dim4','dim5'])\n",
    "df_embedding['emd'] = df_embedding.apply(lambda r: tuple(r), axis=1).apply(np.array)\n",
    "df_embedding"
   ]
  },
  {
   "cell_type": "code",
   "execution_count": 63,
   "id": "offshore-queens",
   "metadata": {},
   "outputs": [
    {
     "data": {
      "text/html": [
       "<div>\n",
       "<style scoped>\n",
       "    .dataframe tbody tr th:only-of-type {\n",
       "        vertical-align: middle;\n",
       "    }\n",
       "\n",
       "    .dataframe tbody tr th {\n",
       "        vertical-align: top;\n",
       "    }\n",
       "\n",
       "    .dataframe thead th {\n",
       "        text-align: right;\n",
       "    }\n",
       "</style>\n",
       "<table border=\"1\" class=\"dataframe\">\n",
       "  <thead>\n",
       "    <tr style=\"text-align: right;\">\n",
       "      <th></th>\n",
       "      <th>text</th>\n",
       "      <th>label</th>\n",
       "      <th>dim1</th>\n",
       "      <th>dim2</th>\n",
       "      <th>dim3</th>\n",
       "      <th>dim4</th>\n",
       "      <th>dim5</th>\n",
       "      <th>emd</th>\n",
       "    </tr>\n",
       "  </thead>\n",
       "  <tbody>\n",
       "    <tr>\n",
       "      <th>0</th>\n",
       "      <td>Perfect plan B for our beach wedding that we c...</td>\n",
       "      <td>beach</td>\n",
       "      <td>2.960057</td>\n",
       "      <td>7.748816</td>\n",
       "      <td>3.610958</td>\n",
       "      <td>-3.918318</td>\n",
       "      <td>0.311885</td>\n",
       "      <td>[2.960057258605957, 7.748816013336182, 3.61095...</td>\n",
       "    </tr>\n",
       "    <tr>\n",
       "      <th>1</th>\n",
       "      <td>Staff were AMAZING - so friendly and accommoda...</td>\n",
       "      <td>staff</td>\n",
       "      <td>3.025546</td>\n",
       "      <td>8.872066</td>\n",
       "      <td>3.597700</td>\n",
       "      <td>-3.004746</td>\n",
       "      <td>0.259967</td>\n",
       "      <td>[3.025545597076416, 8.872066497802734, 3.59769...</td>\n",
       "    </tr>\n",
       "    <tr>\n",
       "      <th>2</th>\n",
       "      <td>All apartments with a pool view Ten minute wal...</td>\n",
       "      <td>location</td>\n",
       "      <td>3.639231</td>\n",
       "      <td>8.900084</td>\n",
       "      <td>4.011639</td>\n",
       "      <td>-3.576865</td>\n",
       "      <td>0.677977</td>\n",
       "      <td>[3.6392314434051514, 8.900083541870117, 4.0116...</td>\n",
       "    </tr>\n",
       "    <tr>\n",
       "      <th>3</th>\n",
       "      <td>We had a 2 bedroom suite with a hot tub.</td>\n",
       "      <td>bath</td>\n",
       "      <td>2.553021</td>\n",
       "      <td>8.434787</td>\n",
       "      <td>3.987511</td>\n",
       "      <td>-4.503460</td>\n",
       "      <td>0.283527</td>\n",
       "      <td>[2.553021192550659, 8.434786796569824, 3.98751...</td>\n",
       "    </tr>\n",
       "    <tr>\n",
       "      <th>4</th>\n",
       "      <td>Overall the room was very clean, as were the b...</td>\n",
       "      <td>bath</td>\n",
       "      <td>2.262900</td>\n",
       "      <td>8.778159</td>\n",
       "      <td>3.597315</td>\n",
       "      <td>-3.617911</td>\n",
       "      <td>0.494508</td>\n",
       "      <td>[2.262899875640869, 8.778159141540527, 3.59731...</td>\n",
       "    </tr>\n",
       "    <tr>\n",
       "      <th>5</th>\n",
       "      <td>The property is very close to everything</td>\n",
       "      <td>location</td>\n",
       "      <td>2.369797</td>\n",
       "      <td>8.791329</td>\n",
       "      <td>4.558879</td>\n",
       "      <td>-3.777204</td>\n",
       "      <td>0.276829</td>\n",
       "      <td>[2.3697972297668457, 8.791329383850098, 4.5588...</td>\n",
       "    </tr>\n",
       "    <tr>\n",
       "      <th>6</th>\n",
       "      <td>The beach is less than a two minute walk as-we...</td>\n",
       "      <td>beach</td>\n",
       "      <td>3.568676</td>\n",
       "      <td>8.285285</td>\n",
       "      <td>4.523750</td>\n",
       "      <td>-3.596047</td>\n",
       "      <td>0.052983</td>\n",
       "      <td>[3.568676233291626, 8.285284996032715, 4.52375...</td>\n",
       "    </tr>\n",
       "    <tr>\n",
       "      <th>7</th>\n",
       "      <td>The location only 5 min drive from a shopping ...</td>\n",
       "      <td>location</td>\n",
       "      <td>3.333349</td>\n",
       "      <td>8.256815</td>\n",
       "      <td>4.465523</td>\n",
       "      <td>-4.288037</td>\n",
       "      <td>0.546908</td>\n",
       "      <td>[3.3333487510681152, 8.256814956665039, 4.4655...</td>\n",
       "    </tr>\n",
       "  </tbody>\n",
       "</table>\n",
       "</div>"
      ],
      "text/plain": [
       "                                                text     label      dim1  \\\n",
       "0  Perfect plan B for our beach wedding that we c...     beach  2.960057   \n",
       "1  Staff were AMAZING - so friendly and accommoda...     staff  3.025546   \n",
       "2  All apartments with a pool view Ten minute wal...  location  3.639231   \n",
       "3           We had a 2 bedroom suite with a hot tub.      bath  2.553021   \n",
       "4  Overall the room was very clean, as were the b...      bath  2.262900   \n",
       "5           The property is very close to everything  location  2.369797   \n",
       "6  The beach is less than a two minute walk as-we...     beach  3.568676   \n",
       "7  The location only 5 min drive from a shopping ...  location  3.333349   \n",
       "\n",
       "       dim2      dim3      dim4      dim5  \\\n",
       "0  7.748816  3.610958 -3.918318  0.311885   \n",
       "1  8.872066  3.597700 -3.004746  0.259967   \n",
       "2  8.900084  4.011639 -3.576865  0.677977   \n",
       "3  8.434787  3.987511 -4.503460  0.283527   \n",
       "4  8.778159  3.597315 -3.617911  0.494508   \n",
       "5  8.791329  4.558879 -3.777204  0.276829   \n",
       "6  8.285285  4.523750 -3.596047  0.052983   \n",
       "7  8.256815  4.465523 -4.288037  0.546908   \n",
       "\n",
       "                                                 emd  \n",
       "0  [2.960057258605957, 7.748816013336182, 3.61095...  \n",
       "1  [3.025545597076416, 8.872066497802734, 3.59769...  \n",
       "2  [3.6392314434051514, 8.900083541870117, 4.0116...  \n",
       "3  [2.553021192550659, 8.434786796569824, 3.98751...  \n",
       "4  [2.262899875640869, 8.778159141540527, 3.59731...  \n",
       "5  [2.3697972297668457, 8.791329383850098, 4.5588...  \n",
       "6  [3.568676233291626, 8.285284996032715, 4.52375...  \n",
       "7  [3.3333487510681152, 8.256814956665039, 4.4655...  "
      ]
     },
     "execution_count": 63,
     "metadata": {},
     "output_type": "execute_result"
    }
   ],
   "source": [
    "df_text_emd = pd.concat([df, df_embedding], axis=1)\n",
    "df_text_emd"
   ]
  },
  {
   "cell_type": "code",
   "execution_count": 64,
   "id": "international-custody",
   "metadata": {},
   "outputs": [
    {
     "data": {
      "text/plain": [
       "<AxesSubplot:xlabel='dim1', ylabel='dim2'>"
      ]
     },
     "execution_count": 64,
     "metadata": {},
     "output_type": "execute_result"
    },
    {
     "data": {
      "image/png": "[encoded data removed]",
      "text/plain": [
       "<Figure size 432x288 with 1 Axes>"
      ]
     },
     "metadata": {
      "needs_background": "light"
     },
     "output_type": "display_data"
    }
   ],
   "source": [
    "import seaborn as sns\n",
    "sns.scatterplot(data=df_text_emd, x=\"dim1\", y=\"dim2\", hue=\"label\")"
   ]
  },
  {
   "cell_type": "code",
   "execution_count": 127,
   "id": "printable-matter",
   "metadata": {},
   "outputs": [
    {
     "name": "stdout",
     "output_type": "stream",
     "text": [
      "\n",
      "\n",
      "======================\n",
      "\n",
      "\n",
      "Input Text: Perfect plan B for our beach wedding that we couldn’t have.\n",
      "\n",
      "Top 3 most similar sentences in corpus:\n",
      "The location only 5 min drive from a shopping mall with restaurants. (Score: 0.9985)\n",
      "We had a 2 bedroom suite with a hot tub. (Score: 0.9978)\n",
      "All apartments with a pool view Ten minute walk to the centre of town, very friendly, helpful and flexible staff and good clean rooms and comfy beds (Score: 0.9962)\n"
     ]
    }
   ],
   "source": [
    "#input_list = df_text_emd['text'].tolist()\n",
    "input_list = ['Perfect plan B for our beach wedding that we couldn’t have.']\n",
    "for i in input_list:\n",
    "    scores = []\n",
    "    x = df_text_emd[df_text_emd['text']== i]['emd'].values[0]\n",
    "    data = df_text_emd[df_text_emd['text']!= i]\n",
    "    for output in data['text'].tolist():\n",
    "        e = data[data['text']==output]['emd'].values[0]\n",
    "        score = 1 - spatial.distance.cosine(x, e)\n",
    "        scores.append(score)\n",
    "    results = zip(data['text'].tolist(), scores)\n",
    "    top_results = sorted(results, key= itemgetter(1), reverse = True)[0:top_k]\n",
    "\n",
    "    print(\"\\n\\n======================\\n\\n\")\n",
    "    print(\"Input Text:\", i)\n",
    "    print(\"\\nTop 3 most similar sentences in corpus:\")\n",
    "\n",
    "    for output, score in top_results:\n",
    "        print(output, \"(Score: %.4f)\" % (score))"
   ]
  },
  {
   "cell_type": "code",
   "execution_count": 104,
   "id": "alternative-concern",
   "metadata": {},
   "outputs": [
    {
     "data": {
      "text/plain": [
       "array([ 2.96005726,  7.74881601,  3.6109581 , -3.91831827,  0.31188452])"
      ]
     },
     "execution_count": 104,
     "metadata": {},
     "output_type": "execute_result"
    }
   ],
   "source": [
    "i = input_list = df_text_emd['text'].tolist()[0]\n",
    "scores = []\n",
    "x = df_text_emd[df_text_emd['text']== i]['emd'].values[0]\n",
    "x"
   ]
  },
  {
   "cell_type": "code",
   "execution_count": 118,
   "id": "assumed-container",
   "metadata": {},
   "outputs": [
    {
     "name": "stdout",
     "output_type": "stream",
     "text": [
      "Staff were AMAZING - so friendly and accommodating.\n",
      "0.9916868569894873\n",
      "All apartments with a pool view Ten minute walk to the centre of town, very friendly, helpful and flexible staff and good clean rooms and comfy beds\n",
      "0.9962201368617543\n",
      "We had a 2 bedroom suite with a hot tub.\n",
      "0.9977889879908113\n",
      "Overall the room was very clean, as were the bathrooms.\n",
      "0.9933475804819905\n",
      "The property is very close to everything\n",
      "0.9936813106165806\n",
      "The beach is less than a two minute walk as-well as restaurants and bars and some small shops so it’s ideally placed .\n",
      "0.9955509856950341\n",
      "The location only 5 min drive from a shopping mall with restaurants.\n",
      "0.9984608985761659\n"
     ]
    }
   ],
   "source": [
    "data = df_text_emd[df_text_emd['text']!= i]\n",
    "for output in data['text'].tolist():\n",
    "    e = data[data['text']==output]['emd'].values[0]\n",
    "    print(output)\n",
    "    score = 1 - spatial.distance.cosine(x, e)\n",
    "    print(score)\n",
    "    scores.append(score)"
   ]
  }
 ],
 "metadata": {
  "kernelspec": {
   "display_name": "Python 3",
   "language": "python",
   "name": "python3"
  },
  "language_info": {
   "codemirror_mode": {
    "name": "ipython",
    "version": 3
   },
   "file_extension": ".py",
   "mimetype": "text/x-python",
   "name": "python",
   "nbconvert_exporter": "python",
   "pygments_lexer": "ipython3",
   "version": "3.7.9"
  }
 },
 "nbformat": 4,
 "nbformat_minor": 5
}
