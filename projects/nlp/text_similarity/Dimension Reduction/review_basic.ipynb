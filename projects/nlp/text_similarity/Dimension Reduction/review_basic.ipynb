{
 "cells": [
  {
   "cell_type": "code",
   "execution_count": 1,
   "id": "judicial-harrison",
   "metadata": {},
   "outputs": [
    {
     "data": {
      "text/html": [
       "<div>\n",
       "<style scoped>\n",
       "    .dataframe tbody tr th:only-of-type {\n",
       "        vertical-align: middle;\n",
       "    }\n",
       "\n",
       "    .dataframe tbody tr th {\n",
       "        vertical-align: top;\n",
       "    }\n",
       "\n",
       "    .dataframe thead th {\n",
       "        text-align: right;\n",
       "    }\n",
       "</style>\n",
       "<table border=\"1\" class=\"dataframe\">\n",
       "  <thead>\n",
       "    <tr style=\"text-align: right;\">\n",
       "      <th></th>\n",
       "      <th>review_id</th>\n",
       "      <th>sentiment</th>\n",
       "      <th>text</th>\n",
       "    </tr>\n",
       "  </thead>\n",
       "  <tbody>\n",
       "    <tr>\n",
       "      <th>0</th>\n",
       "      <td>3872002725</td>\n",
       "      <td>positive</td>\n",
       "      <td>Perfect plan B for our beach wedding that we c...</td>\n",
       "    </tr>\n",
       "    <tr>\n",
       "      <th>1</th>\n",
       "      <td>3872002725</td>\n",
       "      <td>positive</td>\n",
       "      <td>Staff were AMAZING - so friendly and accommoda...</td>\n",
       "    </tr>\n",
       "    <tr>\n",
       "      <th>2</th>\n",
       "      <td>3872006069</td>\n",
       "      <td>positive</td>\n",
       "      <td>All apartments with a pool view Ten minute wal...</td>\n",
       "    </tr>\n",
       "    <tr>\n",
       "      <th>3</th>\n",
       "      <td>3872009990</td>\n",
       "      <td>positive</td>\n",
       "      <td>We had a 2 bedroom suite with a hot tub.</td>\n",
       "    </tr>\n",
       "    <tr>\n",
       "      <th>4</th>\n",
       "      <td>3872009990</td>\n",
       "      <td>positive</td>\n",
       "      <td>Very private setting and great atmosphere.</td>\n",
       "    </tr>\n",
       "  </tbody>\n",
       "</table>\n",
       "</div>"
      ],
      "text/plain": [
       "    review_id sentiment                                               text\n",
       "0  3872002725  positive  Perfect plan B for our beach wedding that we c...\n",
       "1  3872002725  positive  Staff were AMAZING - so friendly and accommoda...\n",
       "2  3872006069  positive  All apartments with a pool view Ten minute wal...\n",
       "3  3872009990  positive           We had a 2 bedroom suite with a hot tub.\n",
       "4  3872009990  positive         Very private setting and great atmosphere."
      ]
     },
     "execution_count": 1,
     "metadata": {},
     "output_type": "execute_result"
    }
   ],
   "source": [
    "import pandas as pd\n",
    "import numpy as np\n",
    "import warnings\n",
    "warnings.filterwarnings(\"ignore\",category=DeprecationWarning)\n",
    "\n",
    "colnames = ['review_id','sentiment','text']\n",
    "#data = pd.read_csv('~/reviews.csv.gz', nrows=100, compression='gzip',names = colnames, header = None,\n",
    "#                   error_bad_lines=False)\n",
    "data = pd.read_csv('~/reviews_filtered.txt', sep=\"\\t\", names = colnames)\n",
    "data.head()"
   ]
  },
  {
   "cell_type": "code",
   "execution_count": 2,
   "id": "polar-moisture",
   "metadata": {},
   "outputs": [
    {
     "data": {
      "text/plain": [
       "(9526468, 3)"
      ]
     },
     "execution_count": 2,
     "metadata": {},
     "output_type": "execute_result"
    }
   ],
   "source": [
    "data.shape"
   ]
  },
  {
   "cell_type": "code",
   "execution_count": 3,
   "id": "homeless-kelly",
   "metadata": {},
   "outputs": [
    {
     "data": {
      "text/plain": [
       "<AxesSubplot:>"
      ]
     },
     "execution_count": 3,
     "metadata": {},
     "output_type": "execute_result"
    },
    {
     "data": {
      "image/png": "[encoded data removed]",
      "text/plain": [
       "<Figure size 432x288 with 1 Axes>"
      ]
     },
     "metadata": {
      "needs_background": "light"
     },
     "output_type": "display_data"
    }
   ],
   "source": [
    "data['word_count'] = data['text'].str.split().str.len()\n",
    "data['word_count'].hist() # each bin is 1 word"
   ]
  },
  {
   "cell_type": "code",
   "execution_count": 4,
   "id": "floating-intermediate",
   "metadata": {},
   "outputs": [
    {
     "data": {
      "text/plain": [
       "<AxesSubplot:>"
      ]
     },
     "execution_count": 4,
     "metadata": {},
     "output_type": "execute_result"
    },
    {
     "data": {
      "image/png": "[encoded data removed]",
      "text/plain": [
       "<Figure size 432x288 with 1 Axes>"
      ]
     },
     "metadata": {
      "needs_background": "light"
     },
     "output_type": "display_data"
    }
   ],
   "source": [
    "data['word_count'].hist(bins=np.arange(0, 40)) # each bin is 1 word"
   ]
  },
  {
   "cell_type": "code",
   "execution_count": 22,
   "id": "alike-bahrain",
   "metadata": {},
   "outputs": [
    {
     "data": {
      "text/plain": [
       "'The location only 5 min drive from a shopping mall with restaurants.'"
      ]
     },
     "execution_count": 22,
     "metadata": {},
     "output_type": "execute_result"
    }
   ],
   "source": [
    "data['text'].iloc[14]"
   ]
  },
  {
   "cell_type": "code",
   "execution_count": null,
   "id": "settled-handy",
   "metadata": {},
   "outputs": [],
   "source": []
  },
  {
   "cell_type": "code",
   "execution_count": null,
   "id": "executed-incident",
   "metadata": {},
   "outputs": [],
   "source": []
  }
 ],
 "metadata": {
  "kernelspec": {
   "display_name": "Python 3",
   "language": "python",
   "name": "python3"
  },
  "language_info": {
   "codemirror_mode": {
    "name": "ipython",
    "version": 3
   },
   "file_extension": ".py",
   "mimetype": "text/x-python",
   "name": "python",
   "nbconvert_exporter": "python",
   "pygments_lexer": "ipython3",
   "version": "3.7.9"
  }
 },
 "nbformat": 4,
 "nbformat_minor": 5
}
