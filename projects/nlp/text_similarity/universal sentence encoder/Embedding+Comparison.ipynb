{
 "cells": [
  {
   "cell_type": "code",
   "execution_count": 1,
   "metadata": {
    "collapsed": true
   },
   "outputs": [],
   "source": [
    "import nltk\n",
    "import re\n",
    "import string\n",
    "import numpy as np\n",
    "import pandas as pd\n",
    "\n",
    "# Plotting tools\n",
    "import matplotlib.pyplot as plt\n",
    "import warnings\n",
    "warnings.filterwarnings(\"ignore\",category=DeprecationWarning)"
   ]
  },
  {
   "cell_type": "code",
   "execution_count": 92,
   "metadata": {
    "collapsed": false
   },
   "outputs": [],
   "source": [
    "# Corpus with example sentences\n",
    "corpus = ['A man is eating food.',\n",
    "          'please make your system in such a way that will help business owner against fighting with illegal activities',\n",
    "          'Have been working on removing a review that does not belong to our Inn. Have sent guest invite to redo the review but the link was bad. Guest and we are frustrated because she wrote us apologizing and the hotel she did the review for wasnt even in our town.'\n",
    "          'it should be possible to delete a reviwew that is obviously unjust and wrong',\n",
    "          'i do not like the fact that the pictures are changing by rotation i have now for all the rooms if i search the property the image with the bathrooms it is not good',\n",
    "          'staff need to be trained so that when a guest house asks a question that they can answer',\n",
    "          'expedia much much better you always take a part of the customer who may be drunk has mental problems does not meter for you',\n",
    "         'we received an anonymous review which was really bad' \n",
    "          ,'please escalate this to someone who can help'\n",
    "          ,'when a known issue like vcc problemsa message on the extranet would have saved me holding online for 10 min'\n",
    "          ,'was tranfered then cut off now waiting to try again first guy was very helpful'\n",
    "          ,'i would like to cancel genius promotion but i need to wait for long time to deal with until now'\n",
    "         ]"
   ]
  },
  {
   "cell_type": "code",
   "execution_count": 93,
   "metadata": {
    "collapsed": true
   },
   "outputs": [],
   "source": [
    "# Query sentences:\n",
    "queries = ['i am trying to explain the situation with the guest the guest has deliberately tried to give bad reviews this should not be allowed if the guest was unsatisfied with his stay he could have find a replacement reaching out to bookingcom but rather he continued staying here i want his reviews to be taken out checking my previous history of reviews i cannot allow'\n",
    "          ,'i was told to message the request directly the reply i received then suggested i tried doing exactly what i had already done again this did not work and i am still waiting for actual assistance' \n",
    "          ]"
   ]
  },
  {
   "cell_type": "code",
   "execution_count": 95,
   "metadata": {
    "collapsed": false
   },
   "outputs": [],
   "source": [
    "from sentence_transformers import SentenceTransformer, util\n",
    "import torch\n",
    "#import Top2Vec\n",
    "# first time, the following line has to be run in python terminal\n",
    "embedder = SentenceTransformer('distilbert-base-nli-stsb-mean-tokens')"
   ]
  },
  {
   "cell_type": "code",
   "execution_count": 96,
   "metadata": {
    "collapsed": false
   },
   "outputs": [
    {
     "name": "stdout",
     "output_type": "stream",
     "text": [
      "\n",
      "\n",
      "======================\n",
      "\n",
      "\n",
      "Query: i am trying to explain the situation with the guest the guest has deliberately tried to give bad reviews this should not be allowed if the guest was unsatisfied with his stay he could have find a replacement reaching out to bookingcom but rather he continued staying here i want his reviews to be taken out checking my previous history of reviews i cannot allow\n",
      "\n",
      "Top 5 most similar sentences in corpus:\n",
      "Have been working on removing a review that does not belong to our Inn. Have sent guest invite to redo the review but the link was bad. Guest and we are frustrated because she wrote us apologizing and the hotel she did the review for wasnt even in our town.it should be possible to delete a reviwew that is obviously unjust and wrong (Score: 0.6552)\n",
      "i would like to cancel genius promotion but i need to wait for long time to deal with until now (Score: 0.5553)\n",
      "i do not like the fact that the pictures are changing by rotation i have now for all the rooms if i search the property the image with the bathrooms it is not good (Score: 0.5479)\n",
      "staff need to be trained so that when a guest house asks a question that they can answer (Score: 0.4911)\n",
      "was tranfered then cut off now waiting to try again first guy was very helpful (Score: 0.4107)\n",
      "\n",
      "\n",
      "======================\n",
      "\n",
      "\n",
      "Query: i was told to message the request directly the reply i received then suggested i tried doing exactly what i had already done again this did not work and i am still waiting for actual assistance\n",
      "\n",
      "Top 5 most similar sentences in corpus:\n",
      "was tranfered then cut off now waiting to try again first guy was very helpful (Score: 0.6062)\n",
      "i would like to cancel genius promotion but i need to wait for long time to deal with until now (Score: 0.5534)\n",
      "Have been working on removing a review that does not belong to our Inn. Have sent guest invite to redo the review but the link was bad. Guest and we are frustrated because she wrote us apologizing and the hotel she did the review for wasnt even in our town.it should be possible to delete a reviwew that is obviously unjust and wrong (Score: 0.3868)\n",
      "staff need to be trained so that when a guest house asks a question that they can answer (Score: 0.3667)\n",
      "please escalate this to someone who can help (Score: 0.3320)\n"
     ]
    }
   ],
   "source": [
    "top_k = 5\n",
    "embedder = SentenceTransformer('distilbert-base-nli-stsb-mean-tokens')\n",
    "corpus_embeddings = embedder.encode(corpus, convert_to_tensor=True)\n",
    "\n",
    "for query in queries:\n",
    "    query_embedding = embedder.encode(query, convert_to_tensor=True)\n",
    "    cos_scores = util.pytorch_cos_sim(query_embedding, corpus_embeddings)[0]\n",
    "    cos_scores = cos_scores.cpu()\n",
    "\n",
    "    #We use torch.topk to find the highest 5 scores\n",
    "    top_results = torch.topk(cos_scores, k=top_k)\n",
    "\n",
    "    print(\"\\n\\n======================\\n\\n\")\n",
    "    print(\"Query:\", query)\n",
    "    print(\"\\nTop 5 most similar sentences in corpus:\")\n",
    "\n",
    "    for score, idx in zip(top_results[0], top_results[1]):\n",
    "        print(corpus[idx], \"(Score: %.4f)\" % (score))"
   ]
  },
  {
   "cell_type": "code",
   "execution_count": 97,
   "metadata": {
    "collapsed": false
   },
   "outputs": [
    {
     "name": "stderr",
     "output_type": "stream",
     "text": [
      "INFO:absl:resolver HttpCompressedFileResolver does not support the provided handle.\n",
      "INFO:absl:resolver GcsCompressedFileResolver does not support the provided handle.\n"
     ]
    }
   ],
   "source": [
    "import tensorflow_hub as hub\n",
    "module = \"/home/yueyang/encoder/universal-sentence-encoder\"\n",
    "embedder = hub.load(module)\n",
    "corpus_embeddings = embedder(corpus)"
   ]
  },
  {
   "cell_type": "code",
   "execution_count": 98,
   "metadata": {
    "collapsed": false
   },
   "outputs": [],
   "source": [
    "import scipy\n",
    "import math\n",
    "\n",
    "def hub_similarity(query, text, embedder):\n",
    "    query_embedding = tf.nn.l2_normalize(embedder(tf.constant([query])), axis=1)\n",
    "    text_embedding = tf.nn.l2_normalize(embedder(tf.constant([text])), axis=1)\n",
    "    cosine_similarities = tf.reduce_sum(tf.multiply(query_embedding, text_embedding ), axis=1)\n",
    "    clip_cosine_similarities = tf.clip_by_value(cosine_similarities, -1.0, 1.0)\n",
    "    scores = 1.0 - tf.acos(clip_cosine_similarities) / math.pi\n",
    "    \n",
    "    return scores"
   ]
  },
  {
   "cell_type": "code",
   "execution_count": 99,
   "metadata": {
    "collapsed": false
   },
   "outputs": [
    {
     "name": "stdout",
     "output_type": "stream",
     "text": [
      "\n",
      "\n",
      "======================\n",
      "\n",
      "\n",
      "Query: i am trying to explain the situation with the guest the guest has deliberately tried to give bad reviews this should not be allowed if the guest was unsatisfied with his stay he could have find a replacement reaching out to bookingcom but rather he continued staying here i want his reviews to be taken out checking my previous history of reviews i cannot allow\n",
      "\n",
      "Top 5 most similar sentences in corpus:\n",
      "Have been working on removing a review that does not belong to our Inn. Have sent guest invite to redo the review but the link was bad. Guest and we are frustrated because she wrote us apologizing and the hotel she did the review for wasnt even in our town.it should be possible to delete a reviwew that is obviously unjust and wrong (Score: 0.7384)\n",
      "staff need to be trained so that when a guest house asks a question that they can answer (Score: 0.5940)\n",
      "we received an anonymous review which was really bad (Score: 0.5847)\n",
      "expedia much much better you always take a part of the customer who may be drunk has mental problems does not meter for you (Score: 0.5791)\n",
      "i would like to cancel genius promotion but i need to wait for long time to deal with until now (Score: 0.5717)\n",
      "\n",
      "\n",
      "======================\n",
      "\n",
      "\n",
      "Query: i was told to message the request directly the reply i received then suggested i tried doing exactly what i had already done again this did not work and i am still waiting for actual assistance\n",
      "\n",
      "Top 5 most similar sentences in corpus:\n",
      "was tranfered then cut off now waiting to try again first guy was very helpful (Score: 0.6108)\n",
      "i would like to cancel genius promotion but i need to wait for long time to deal with until now (Score: 0.5945)\n",
      "when a known issue like vcc problemsa message on the extranet would have saved me holding online for 10 min (Score: 0.5753)\n",
      "Have been working on removing a review that does not belong to our Inn. Have sent guest invite to redo the review but the link was bad. Guest and we are frustrated because she wrote us apologizing and the hotel she did the review for wasnt even in our town.it should be possible to delete a reviwew that is obviously unjust and wrong (Score: 0.5721)\n",
      "please escalate this to someone who can help (Score: 0.5701)\n"
     ]
    }
   ],
   "source": [
    "import tensorflow as tf\n",
    "from operator import itemgetter\n",
    "top_k = 5\n",
    "\n",
    "for query in queries:\n",
    "    scores = []\n",
    "    for text in corpus:\n",
    "        score = hub_similarity(query, text, embedder)\n",
    "        scores.append(score.numpy()[0])\n",
    "    results = zip(corpus, scores)\n",
    "    top_results = sorted(results, key= itemgetter(1), reverse = True)[0:top_k]\n",
    "\n",
    "    print(\"\\n\\n======================\\n\\n\")\n",
    "    print(\"Query:\", query)\n",
    "    print(\"\\nTop 5 most similar sentences in corpus:\")\n",
    "\n",
    "    for text, score in top_results:\n",
    "        print(text, \"(Score: %.4f)\" % (score))"
   ]
  }
 ],
 "metadata": {
  "kernelspec": {
   "display_name": "tensorflow_top2vec",
   "language": "python",
   "name": "python3"
  },
  "language_info": {
   "codemirror_mode": {
    "name": "ipython",
    "version": 3
   },
   "file_extension": ".py",
   "mimetype": "text/x-python",
   "name": "python",
   "nbconvert_exporter": "python",
   "pygments_lexer": "ipython3",
   "version": "3.7.9"
  }
 },
 "nbformat": 4,
 "nbformat_minor": 2
}
